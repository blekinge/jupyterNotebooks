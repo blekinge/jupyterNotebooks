{
 "cells": [
  {
   "cell_type": "markdown",
   "id": "1a9416d3-7416-4939-88da-6821b521febe",
   "metadata": {},
   "source": [
    "# What is Curve Fit in Scipy"
   ]
  },
  {
   "cell_type": "markdown",
   "id": "6c0b03b8-6a3d-464d-a2f2-fbef07fb3088",
   "metadata": {},
   "source": [
    "The curve_fit() method of module scipy.optimize that apply non-linear least squares to fit the data to a function.\n",
    "\n",
    "The syntax is given below."
   ]
  },
  {
   "cell_type": "markdown",
   "id": "aab0294c-4cfc-437b-bbc3-4ff8a6422903",
   "metadata": {},
   "source": [
    "`scipy.optimize.curve_fit(f, xdata, ydata, p0=None, sigma=None, absolute_sigma=False, check_finite=True, bounds=(- inf, inf), method=None, jac=None, full_output=False, **kwargs)`\n",
    "\n",
    "Where parameters are:\n",
    "\n",
    "* f: The model’s f(x,…) function. The independent variable must be the first argument, and the subsequent arguments must be the fitting parameters separately.\n",
    "* xdata(array_data): It is the independent variable used to measure the data. Can be any object, but should typically be an M-length sequence or a (k, M)-shaped array for functions with k predictors.\n",
    "* ydata(array_data): A length M array with nominally as the dependent data f(xdata, …).\n",
    "* p0(array_data): Parameters’ initial best guess (length N). If it is None, all starting values will be 1.\n",
    "* sigma: Determines the ydata’s level of uncertainty.\n",
    "* absolute_sigma(boolean): If True, the computed parameter covariance pcov represents the absolute values of sigma in its application.\n",
    "* check_finite(boolean): If True, make sure the input arrays don’t have any nans or infs, and if they do, issue a ValueError. If the input arrays actually contain nans, setting this argument to False can silently result in nonsensical results. As a default, True.\n",
    "* bounds(two tuples): Parameters’ lower and upper bounds. No boundaries are the default. A tuple’s elements must each be either an array with a length equal to the number of parameters, or a single element.\n",
    "* method: A technique for optimization For unconstrained issues, the default is “lm,” and if bounds are given, it is “trf.” When there are fewer observations than variables, the method “lm” will not function, in this situation, try “trf” or “dogbox.”\n",
    "* jac(string, callable): Function with the signature jac(x,…) that generates a dense array-like structure representing the Jacobian matrix of the model function about parameters. It will be scaled using the sigma you supply. The Jacobian will be mathematically estimated if None (the default). The ‘trf’ and ‘dogbox’ methods’ string keywords can be used to choose a finite difference scheme.\n",
    "* full_output(boolean): This function returns additional data in the form of infodict, mesg, and ier if True.\n",
    "\n",
    "The method curve_fit() returns popt(The parameters should be set at their optimum values to minimize the sum of the squared residuals of “f(xdata, *popt) – ydata.”), pcov( popt’s estimated covariance. The parameter estimate’s variance is provided by the diagonals.), infodict(an optional outputs dictionary with the keys) and mesg(a string message containing details about the answer)."
   ]
  },
  {
   "cell_type": "markdown",
   "id": "724092db-9b4b-484a-a6dd-21cc12abc335",
   "metadata": {},
   "source": [
    "# Python Scipy Curve Fit Gaussian"
   ]
  },
  {
   "cell_type": "markdown",
   "id": "37bb69b0-377b-4a07-b27b-c11d32c36b57",
   "metadata": {},
   "source": [
    "The form of the charted plot is what we refer to as the dataset’s distribution when we plot a dataset, like a histogram. The bell curve, usually referred to as the Gaussian or normal distribution, is the most frequently seen shape for continuous data.\n",
    "\n",
    "Let’s fit the data to the gaussian distribution using the method curve_fit by following the below steps:"
   ]
  },
  {
   "cell_type": "markdown",
   "id": "5079bb9f-5a44-4316-96d8-602218d2bf71",
   "metadata": {},
   "source": [
    "Import the required methods or libraries using the below python code."
   ]
  },
  {
   "cell_type": "code",
   "execution_count": 1,
   "id": "a010e6da-9d48-4ffe-b341-475a0165779f",
   "metadata": {},
   "outputs": [],
   "source": [
    "from scipy.optimize import curve_fit\n",
    "import numpy as np\n",
    "import matplotlib.pyplot as plt"
   ]
  },
  {
   "cell_type": "markdown",
   "id": "7dcc1d93-f765-4d7e-9c60-6f291b767d7e",
   "metadata": {},
   "source": [
    "Create x and y data using the below code."
   ]
  },
  {
   "cell_type": "code",
   "execution_count": 2,
   "id": "fdbb22f4-bba8-418a-9129-3f585a13c2c5",
   "metadata": {},
   "outputs": [],
   "source": [
    "x_data = [ -7.0, -6.0, -10.0, -9.0, -8.0, -1.0, 0.0, 1.0, 2.0, -5.0, -4.0, -3.0, -2.0, 7.0, 8.0, 3.0, 4.0, 5.0, 6.0, 9.0, 10.0]\n",
    "y_data = [ 8.3, 10.6,1.2, 4.2, 6.7, 15.7, 16.1, 16.6, 11.7, 13.5, 14.5, 16.0, 12.7, 10.3, 8.6, 15.4, 14.4, 14.2, 6.1, 3.9, 2.1]"
   ]
  },
  {
   "cell_type": "markdown",
   "id": "5e7184e6-835a-499c-bc1a-4e8b195900be",
   "metadata": {},
   "source": [
    "To make use of NumPy arrays’ useful capabilities, convert x_data and y_data into them."
   ]
  },
  {
   "cell_type": "code",
   "execution_count": 3,
   "id": "43eff3cc-c654-4302-b54d-8376379c59a4",
   "metadata": {},
   "outputs": [
    {
     "data": {
      "text/plain": [
       "[<matplotlib.lines.Line2D at 0x7f3dc61c7fa0>]"
      ]
     },
     "execution_count": 3,
     "metadata": {},
     "output_type": "execute_result"
    },
    {
     "data": {
      "image/png": "[encoded data removed]",
      "text/plain": [
       "<Figure size 640x480 with 1 Axes>"
      ]
     },
     "metadata": {},
     "output_type": "display_data"
    }
   ],
   "source": [
    "x_data = np.asarray(x_data)\n",
    "y_data = np.asarray(y_data)\n",
    "plt.plot(x_data, y_data, 'o')"
   ]
  },
  {
   "cell_type": "markdown",
   "id": "f00a44be-6ea3-45fc-9c08-5d5e2a27f32c",
   "metadata": {},
   "source": [
    "Create a Gaussian function using the below code."
   ]
  },
  {
   "cell_type": "code",
   "execution_count": 4,
   "id": "62aa273c-8fa2-4c9b-bcd5-cdeae12e7ab0",
   "metadata": {},
   "outputs": [],
   "source": [
    "def Gaussian_fun(x, a, b):\n",
    "    y_res = a*np.exp(-1*b*x**2)\n",
    "    return y_res"
   ]
  },
  {
   "cell_type": "markdown",
   "id": "a8ed1869-376a-4db5-91e5-a4c72574b925",
   "metadata": {},
   "source": [
    "Now fit the data to the gaussian function and extract the required parameter values using the below code."
   ]
  },
  {
   "cell_type": "code",
   "execution_count": 5,
   "id": "8ae96420-28ab-4618-ac78-18769a678128",
   "metadata": {},
   "outputs": [
    {
     "name": "stderr",
     "output_type": "stream",
     "text": [
      "/tmp/ipykernel_7136/3804335390.py:2: RuntimeWarning: overflow encountered in exp\n",
      "  y_res = a*np.exp(-1*b*x**2)\n"
     ]
    }
   ],
   "source": [
    "params, cov = curve_fit(Gaussian_fun, x_data, y_data)\n",
    "  \n",
    "fitA = params[0]\n",
    "fitB = params[1]\n",
    "\n",
    "fity = Gaussian_fun(x_data, fitA, fitB)"
   ]
  },
  {
   "cell_type": "markdown",
   "id": "8a795731-baf0-4112-a223-5be0de1bb60d",
   "metadata": {},
   "source": [
    "Plot the fitted data using the below code."
   ]
  },
  {
   "cell_type": "code",
   "execution_count": 6,
   "id": "eabfec17-1442-46ae-b341-ba90c6fd1064",
   "metadata": {},
   "outputs": [
    {
     "data": {
      "text/plain": [
       "<matplotlib.legend.Legend at 0x7f3dbe0b31f0>"
      ]
     },
     "execution_count": 6,
     "metadata": {},
     "output_type": "execute_result"
    },
    {
     "data": {
      "image/png": "[encoded data removed]",
      "text/plain": [
       "<Figure size 640x480 with 1 Axes>"
      ]
     },
     "metadata": {},
     "output_type": "display_data"
    }
   ],
   "source": [
    "plt.plot(x_data, y_data, '*', label='data')\n",
    "plt.plot(x_data, fity, '-', label='fit')\n",
    "plt.legend()"
   ]
  },
  {
   "cell_type": "markdown",
   "id": "7f9e8f44-31ca-468e-8e2c-5d71906486fe",
   "metadata": {},
   "source": [
    "# Python Scipy Curve Fit Multiple Variables"
   ]
  },
  {
   "cell_type": "markdown",
   "id": "6b50c1a9-abd5-406c-a57d-b12bbade216f",
   "metadata": {},
   "source": [
    "The independent variables can be passed to “curve fit” as a multi-dimensional array, but our “function” must also allow this. Let’s understand with an example by following the below steps:\n",
    "\n",
    "Import the required libraries or methods using the below python code."
   ]
  },
  {
   "cell_type": "code",
   "execution_count": 7,
   "id": "2c4dce4b-62d5-49d7-b21d-04ae2ec50798",
   "metadata": {},
   "outputs": [],
   "source": [
    "from scipy import optimize\n",
    "import numpy as np"
   ]
  },
  {
   "cell_type": "markdown",
   "id": "bda5575c-a0ed-4335-90e1-3cba043e961a",
   "metadata": {},
   "source": [
    "Create a function that will call the array P and unpack it to p and q using the below code."
   ]
  },
  {
   "cell_type": "code",
   "execution_count": 8,
   "id": "de59ee0d-b037-495e-a747-75518401fdd9",
   "metadata": {},
   "outputs": [],
   "source": [
    "def fun(P, x, y, z):\n",
    "    p,q = P\n",
    "    return np.log(x) + y*np.log(p) + z*np.log(q)"
   ]
  },
  {
   "cell_type": "markdown",
   "id": "54d7fde1-e2e0-4dd6-8961-f78e9ff94a53",
   "metadata": {},
   "source": [
    "Create some noisy data to fit using the below code."
   ]
  },
  {
   "cell_type": "code",
   "execution_count": 9,
   "id": "4767efd1-bbbe-4f84-a2af-e24575cc979d",
   "metadata": {},
   "outputs": [],
   "source": [
    "p = np.linspace(0.1,1.2,100)\n",
    "q = np.linspace(1.1,2.1, 100)\n",
    "x, y, z = 8., 5., 9.\n",
    "z = fun((p,q), x, y, z) * 1 + np.random.random(100) / 100"
   ]
  },
  {
   "cell_type": "markdown",
   "id": "79017a1c-73c6-4144-9ace-e4acee068aaf",
   "metadata": {},
   "source": [
    "Define initial guess and fit data to multiple variables using the below code."
   ]
  },
  {
   "cell_type": "code",
   "execution_count": 10,
   "id": "e24dedf3-5178-459f-92a1-f43a88373afb",
   "metadata": {},
   "outputs": [
    {
     "name": "stdout",
     "output_type": "stream",
     "text": [
      "(array([8.04193096, 4.99986236, 8.99965609]), array([[ 1.33412300e-03,  7.68410543e-05, -2.63600459e-04],\n",
      "       [ 7.68410543e-05,  4.55390660e-06, -1.50999636e-05],\n",
      "       [-2.63600459e-04, -1.50999636e-05,  5.24875399e-05]]))\n"
     ]
    }
   ],
   "source": [
    "p0 = 7., 3., 6.\n",
    "print(optimize.curve_fit(fun, (p,q), z, p0))"
   ]
  },
  {
   "cell_type": "markdown",
   "id": "8ea1dd5b-a10c-465f-a2e5-ed477e0214c0",
   "metadata": {},
   "source": [
    "# Python Scipy Curve Fit Initial Guess"
   ]
  },
  {
   "cell_type": "markdown",
   "id": "4fd76f4e-0462-4a66-b86e-32270162d630",
   "metadata": {},
   "source": [
    "The fit parameters are initially estimated using the “curve fit” procedure using values of 1.0. However, there are instances where the fit will not converge, in which case we must offer a wise assumption as a starting point. Let’s see with an example by following the below steps:\n",
    "\n",
    "Import the required libraries or methods using the below python code."
   ]
  },
  {
   "cell_type": "code",
   "execution_count": 11,
   "id": "afdbcaab-de69-4967-9aa7-fb25914da6d6",
   "metadata": {},
   "outputs": [],
   "source": [
    "from scipy import optimize\n",
    "import numpy as np"
   ]
  },
  {
   "cell_type": "markdown",
   "id": "379a706c-2af2-4da0-83bc-8e745b43c469",
   "metadata": {},
   "source": [
    "Here, we’ll specify some data that are similarly spaced in time and a range of temperatures in the hopes that they will fit an exponential that resembles a charging capacitor. In addition to defining error bars on the temperature values, we take this array of temperatures and add some random noise to it."
   ]
  },
  {
   "cell_type": "code",
   "execution_count": 12,
   "id": "d394e0b5-a493-49b0-8a5b-6df018f6d41d",
   "metadata": {},
   "outputs": [],
   "source": [
    "def capcitor(x, y, z):\n",
    "    return y*(1-np.exp(z*x))\n",
    "t = np.linspace(0.5,3.0, 9)\n",
    "tempretures = np.array([14.77, 18.47, 20.95, 22.62, 23.73, 24.48, 24.98, 25.32, 25.54])\n",
    "tempretures = tempretures + 0.4*np.random.normal(size=len(tempretures))\n",
    "dTempretures = np.array([1.3, 0.8, 1.1, 0.9, 0.8, 0.8, 0.7, 0.6, 0.6])"
   ]
  },
  {
   "cell_type": "markdown",
   "id": "b053da06-bb22-4333-97f1-479aa8bb5a54",
   "metadata": {},
   "source": [
    "Now fit data using the below code."
   ]
  },
  {
   "cell_type": "code",
   "execution_count": 13,
   "id": "993be3f6-b5c9-4890-9a31-9e67f6674235",
   "metadata": {},
   "outputs": [
    {
     "ename": "RuntimeError",
     "evalue": "Optimal parameters not found: Number of calls to function has reached maxfev = 600.",
     "output_type": "error",
     "traceback": [
      "\u001b[0;31m---------------------------------------------------------------------------\u001b[0m",
      "\u001b[0;31mRuntimeError\u001b[0m                              Traceback (most recent call last)",
      "Input \u001b[0;32mIn [13]\u001b[0m, in \u001b[0;36m<cell line: 1>\u001b[0;34m()\u001b[0m\n\u001b[0;32m----> 1\u001b[0m fit_Params, fit_Covariances \u001b[38;5;241m=\u001b[39m \u001b[43moptimize\u001b[49m\u001b[38;5;241;43m.\u001b[39;49m\u001b[43mcurve_fit\u001b[49m\u001b[43m(\u001b[49m\u001b[43mcapcitor\u001b[49m\u001b[43m,\u001b[49m\u001b[43m \u001b[49m\u001b[43mt\u001b[49m\u001b[43m,\u001b[49m\u001b[43m \u001b[49m\u001b[43mtempretures\u001b[49m\u001b[43m)\u001b[49m\n\u001b[1;32m      2\u001b[0m \u001b[38;5;28mprint\u001b[39m(fit_Params)\n\u001b[1;32m      3\u001b[0m \u001b[38;5;28mprint\u001b[39m(fit_Covariances)\n",
      "File \u001b[0;32m/opt/conda/lib/python3.10/site-packages/scipy/optimize/_minpack_py.py:839\u001b[0m, in \u001b[0;36mcurve_fit\u001b[0;34m(f, xdata, ydata, p0, sigma, absolute_sigma, check_finite, bounds, method, jac, full_output, **kwargs)\u001b[0m\n\u001b[1;32m    837\u001b[0m     cost \u001b[38;5;241m=\u001b[39m np\u001b[38;5;241m.\u001b[39msum(infodict[\u001b[38;5;124m'\u001b[39m\u001b[38;5;124mfvec\u001b[39m\u001b[38;5;124m'\u001b[39m] \u001b[38;5;241m*\u001b[39m\u001b[38;5;241m*\u001b[39m \u001b[38;5;241m2\u001b[39m)\n\u001b[1;32m    838\u001b[0m     \u001b[38;5;28;01mif\u001b[39;00m ier \u001b[38;5;129;01mnot\u001b[39;00m \u001b[38;5;129;01min\u001b[39;00m [\u001b[38;5;241m1\u001b[39m, \u001b[38;5;241m2\u001b[39m, \u001b[38;5;241m3\u001b[39m, \u001b[38;5;241m4\u001b[39m]:\n\u001b[0;32m--> 839\u001b[0m         \u001b[38;5;28;01mraise\u001b[39;00m \u001b[38;5;167;01mRuntimeError\u001b[39;00m(\u001b[38;5;124m\"\u001b[39m\u001b[38;5;124mOptimal parameters not found: \u001b[39m\u001b[38;5;124m\"\u001b[39m \u001b[38;5;241m+\u001b[39m errmsg)\n\u001b[1;32m    840\u001b[0m \u001b[38;5;28;01melse\u001b[39;00m:\n\u001b[1;32m    841\u001b[0m     \u001b[38;5;66;03m# Rename maxfev (leastsq) to max_nfev (least_squares), if specified.\u001b[39;00m\n\u001b[1;32m    842\u001b[0m     \u001b[38;5;28;01mif\u001b[39;00m \u001b[38;5;124m'\u001b[39m\u001b[38;5;124mmax_nfev\u001b[39m\u001b[38;5;124m'\u001b[39m \u001b[38;5;129;01mnot\u001b[39;00m \u001b[38;5;129;01min\u001b[39;00m kwargs:\n",
      "\u001b[0;31mRuntimeError\u001b[0m: Optimal parameters not found: Number of calls to function has reached maxfev = 600."
     ]
    }
   ],
   "source": [
    "fit_Params, fit_Covariances = optimize.curve_fit(capcitor, t, tempretures)\n",
    "print(fit_Params)\n",
    "print(fit_Covariances)"
   ]
  },
  {
   "cell_type": "markdown",
   "id": "f1870eae-9f2c-4a5f-a560-06b5e0055b44",
   "metadata": {},
   "source": [
    "The code above won’t work if we run it. Take a look at the resulting error message."
   ]
  },
  {
   "cell_type": "markdown",
   "id": "ac8591c2-9fea-4a51-83eb-176357fcb92b",
   "metadata": {},
   "source": [
    "As soon as we add some educated guesses (p0) for a and b, we’ll see that the fit is now perfect."
   ]
  },
  {
   "cell_type": "code",
   "execution_count": 14,
   "id": "806b52d6-afe9-4185-bad0-d0693a38c290",
   "metadata": {},
   "outputs": [
    {
     "name": "stdout",
     "output_type": "stream",
     "text": [
      "[25.48981803 -1.60340544]\n",
      "[[0.05111881 0.00973338]\n",
      " [0.00973338 0.00316739]]\n"
     ]
    }
   ],
   "source": [
    "fit_Params, fit_Covariances = optimize.curve_fit(capcitor, t, tempretures, p0 = [30.0, -1.0])\n",
    "print(fit_Params)\n",
    "print(fit_Covariances)"
   ]
  },
  {
   "cell_type": "markdown",
   "id": "16513784-f142-43e9-8e16-421b1c4bd38d",
   "metadata": {},
   "source": [
    "This is how to use the initial guesses with the method curve_fit() for fitting."
   ]
  },
  {
   "cell_type": "markdown",
   "id": "e4fb1bb6-7a42-4e3e-b503-af2bbce4c216",
   "metadata": {},
   "source": [
    "# Python Scipy Curve Fit Maxfev"
   ]
  },
  {
   "cell_type": "markdown",
   "id": "40877b87-d664-401b-9938-61e34d3976cc",
   "metadata": {},
   "source": [
    "The method curve_fit() of Python Scipy accepts the parameter maxfev that is the maximum number of function calls. In the above subsection, When run fit the function to a data without initial guess, it shows an error Optimal parameters not found: Number of calls to function has reached maxfev = 600.\n",
    "\n",
    "That means the function is called 600 times and didn’t find any optimal parameters. Let’s increase the value of the argument maxfev and see if it finds the optimal parameters. So here we will take the same example as we have taken in the above subsection “Python Scipy Curve Fit Initial Guess”."
   ]
  },
  {
   "cell_type": "code",
   "execution_count": 15,
   "id": "a86c01dc-b82a-47d4-9d5d-a1f84a14270b",
   "metadata": {},
   "outputs": [
    {
     "name": "stdout",
     "output_type": "stream",
     "text": [
      "[-2.06304801e+05  5.43506362e-05]\n",
      "[[3.07945980e+17 8.11210668e+07]\n",
      " [8.11210668e+07 2.13694216e-02]]\n"
     ]
    }
   ],
   "source": [
    "fit_Params, fit_Covariances = optimize.curve_fit(capcitor, t, tempretures, maxfev=800)\n",
    "print(fit_Params)\n",
    "print(fit_Covariances)"
   ]
  },
  {
   "cell_type": "markdown",
   "id": "cbaa070d-a25f-483c-893e-4084f7cc7ed6",
   "metadata": {},
   "source": [
    "From the output, we can see that the optimal parameters are found when the function is called 800 times."
   ]
  },
  {
   "cell_type": "markdown",
   "id": "55a01fea-8b5c-4db9-9df3-05ddd140f538",
   "metadata": {},
   "source": [
    "# Python Scipy Curve Fit Exponential"
   ]
  },
  {
   "cell_type": "markdown",
   "id": "c2924f5e-6bef-4316-9e5e-ac84485decef",
   "metadata": {},
   "source": [
    "The curve_fit() method in the scipy.optimize the module of the SciPy Python package fits a function to data using non-linear least squares. As a result, in this section, we will develop an exponential function and provide it to the method curve fit() so that it can fit the generated data.\n",
    "\n",
    "Let’s take an example by following the below steps:"
   ]
  },
  {
   "cell_type": "markdown",
   "id": "b243b7b8-130b-430d-b761-840e7c816d28",
   "metadata": {},
   "source": [
    "Import the required libraries using the below python code."
   ]
  },
  {
   "cell_type": "code",
   "execution_count": 16,
   "id": "509cef21-5b78-45de-aaab-767f538563ca",
   "metadata": {},
   "outputs": [],
   "source": [
    "import numpy as np\n",
    "import matplotlib.pyplot as plt\n",
    "%matplotlib inline\n",
    "from scipy import optimize"
   ]
  },
  {
   "cell_type": "markdown",
   "id": "aaab396d-33d6-4ba2-b9b5-40265750dff5",
   "metadata": {},
   "source": [
    "Create an exponential function using the below code."
   ]
  },
  {
   "cell_type": "code",
   "execution_count": 17,
   "id": "4259d784-8cbb-4923-9aa9-ffe1afc9310b",
   "metadata": {},
   "outputs": [],
   "source": [
    "def expfunc(x, y, z, s):\n",
    "    return y * np.exp(-z * x) + s"
   ]
  },
  {
   "cell_type": "markdown",
   "id": "57e888a3-ef52-4eb6-8c93-449f8018f995",
   "metadata": {},
   "source": [
    "Use the code below to define the data so that it can be fitted with noise, fit for the parameters of the function “expfunc” and also restrict the optimization to a specific area."
   ]
  },
  {
   "cell_type": "code",
   "execution_count": 18,
   "id": "0b10f049-4ffa-43f5-8db3-8f36db5f736f",
   "metadata": {},
   "outputs": [
    {
     "data": {
      "text/plain": [
       "[<matplotlib.lines.Line2D at 0x7f3dbde281c0>]"
      ]
     },
     "execution_count": 18,
     "metadata": {},
     "output_type": "execute_result"
    },
    {
     "data": {
      "image/png": "[encoded data removed]",
      "text/plain": [
       "<Figure size 640x480 with 1 Axes>"
      ]
     },
     "metadata": {},
     "output_type": "display_data"
    }
   ],
   "source": [
    "x_data = np.linspace(0, 5, 60)\n",
    "y_data = expfunc(x_data, 3.1, 2.3, 1.0)\n",
    "\n",
    "random_numgen = np.random.default_rng()\n",
    "noise_y = 0.3 * random_numgen.normal(size=x_data.size)\n",
    "\n",
    "data_y = y_data + noise_y\n",
    "plt.plot(x_data, data_y, 'b-', label='data')\n",
    "\n",
    "p_opt, p_cov = optimize.curve_fit(expfunc, x_data, data_y)\n",
    "plt.plot(x_data, expfunc(x_data, *p_opt), 'r-',\n",
    "         label='fit: a=%5.3f, b=%5.3f, c=%5.3f' % tuple(p_opt))"
   ]
  },
  {
   "cell_type": "markdown",
   "id": "d5c77626-2ad8-4d86-9650-d4715d64199d",
   "metadata": {},
   "source": [
    "From the above output, we can see the fitted data to an exponential function using the method curve_fit(), this is how to fit the data to an exponential function."
   ]
  }
 ],
 "metadata": {
  "kernelspec": {
   "display_name": "Python 3 (ipykernel)",
   "language": "python",
   "name": "python3"
  },
  "language_info": {
   "codemirror_mode": {
    "name": "ipython",
    "version": 3
   },
   "file_extension": ".py",
   "mimetype": "text/x-python",
   "name": "python",
   "nbconvert_exporter": "python",
   "pygments_lexer": "ipython3",
   "version": "3.10.6"
  }
 },
 "nbformat": 4,
 "nbformat_minor": 5
}
