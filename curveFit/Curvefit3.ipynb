{
 "cells": [
  {
   "cell_type": "markdown",
   "id": "f833c1ff-7230-49dc-9c92-abdd05f69784",
   "metadata": {},
   "source": [
    "# Curve Fitting With Python"
   ]
  },
  {
   "cell_type": "markdown",
   "id": "8d42663a-89b9-4c42-b74e-700cf18eaf6f",
   "metadata": {},
   "source": [
    "Curve fitting is a type of optimization that finds an optimal set of parameters for a defined function that best fits a given set of observations.\n",
    "\n",
    "Unlike supervised learning, curve fitting requires that you define the function that maps examples of inputs to outputs.\n",
    "\n",
    "The mapping function, also called the basis function can have any form you like, including a straight line (linear regression), a curved line (polynomial regression), and much more. This provides the flexibility and control to define the form of the curve, where an optimization process is used to find the specific optimal parameters of the function.\n",
    "\n",
    "In this tutorial, you will discover how to perform curve fitting in Python.\n",
    "\n",
    "After completing this tutorial, you will know:\n",
    "\n",
    "Curve fitting involves finding the optimal parameters to a function that maps examples of inputs to outputs.\n",
    "The SciPy Python library provides an API to fit a curve to a dataset.\n",
    "How to use curve fitting in SciPy to fit a range of different curves to a set of observations.\n",
    "Kick-start your project with my new book Optimization for Machine Learning, including step-by-step tutorials and the Python source code files for all examples.\n",
    "\n",
    "Let’s get started."
   ]
  },
  {
   "cell_type": "markdown",
   "id": "4e35835a-c0a1-4adb-82a2-3736ca015abf",
   "metadata": {},
   "source": [
    "# Curve Fitting\n",
    "\n",
    "Curve fitting is an optimization problem that finds a line that best fits a collection of observations.\n",
    "\n",
    "It is easiest to think about curve fitting in two dimensions, such as a graph.\n",
    "\n",
    "Consider that we have collected examples of data from the problem domain with inputs and outputs.\n",
    "\n",
    "The x-axis is the independent variable or the input to the function. The y-axis is the dependent variable or the output of the function. We don’t know the form of the function that maps examples of inputs to outputs, but we suspect that we can approximate the function with a standard function form.\n",
    "\n",
    "Curve fitting involves first defining the functional form of the mapping function (also called the basis function or objective function), then searching for the parameters to the function that result in the minimum error.\n",
    "\n",
    "Error is calculated by using the observations from the domain and passing the inputs to our candidate mapping function and calculating the output, then comparing the calculated output to the observed output.\n",
    "\n",
    "Once fit, we can use the mapping function to interpolate or extrapolate new points in the domain. It is common to run a sequence of input values through the mapping function to calculate a sequence of outputs, then create a line plot of the result to show how output varies with input and how well the line fits the observed points.\n",
    "\n",
    "The key to curve fitting is the form of the mapping function.\n",
    "\n",
    "A straight line between inputs and outputs can be defined as follows:\n",
    "\n",
    "`y = a * x + b`\n",
    "\n",
    "Where y is the calculated output, x is the input, and a and b are parameters of the mapping function found using an optimization algorithm.\n",
    "\n",
    "This is called a linear equation because it is a weighted sum of the inputs.\n",
    "\n",
    "In a linear regression model, these parameters are referred to as coefficients; in a neural network, they are referred to as weights.\n",
    "\n",
    "This equation can be generalized to any number of inputs, meaning that the notion of curve fitting is not limited to two-dimensions (one input and one output), but could have many input variables.\n",
    "\n",
    "For example, a line mapping function for two input variables may look as follows:\n",
    "\n",
    "`y = a1 * x1 + a2 * x2 + b`\n",
    "\n",
    "The equation does not have to be a straight line.\n",
    "\n",
    "We can add curves in the mapping function by adding exponents. For example, we can add a squared version of the input weighted by another parameter:\n",
    "\n",
    "`y = a * x + b * x^2 + c`\n",
    "\n",
    "This is called polynomial regression, and the squared term means it is a second-degree polynomial.\n",
    "\n",
    "So far, linear equations of this type can be fit by minimizing least squares and can be calculated analytically. This means we can find the optimal values of the parameters using a little linear algebra.\n",
    "\n",
    "We might also want to add other mathematical functions to the equation, such as sine, cosine, and more. Each term is weighted with a parameter and added to the whole to give the output; for example:\n",
    "\n",
    "`y = a * sin(b * x) + c`\n",
    "\n",
    "Adding arbitrary mathematical functions to our mapping function generally means we cannot calculate the parameters analytically, and instead, we will need to use an iterative optimization algorithm.\n",
    "\n",
    "This is called nonlinear least squares, as the objective function is no longer convex (it’s nonlinear) and not as easy to solve.\n",
    "\n",
    "Now that we are familiar with curve fitting, let’s look at how we might perform curve fitting in Python."
   ]
  },
  {
   "cell_type": "markdown",
   "id": "016b6022-d319-4f5c-af51-4c6d461421f4",
   "metadata": {},
   "source": [
    "# Curve Fitting Python API\n",
    "We can perform curve fitting for our dataset in Python.\n",
    "\n",
    "The SciPy open source library provides the curve_fit() function for curve fitting via nonlinear least squares.\n",
    "\n",
    "The function takes the same input and output data as arguments, as well as the name of the mapping function to use.\n",
    "\n",
    "The mapping function must take examples of input data and some number of arguments. These remaining arguments will be the coefficients or weight constants that will be optimized by a nonlinear least squares optimization process.\n",
    "\n",
    "For example, we may have some observations from our domain loaded as input variables x and output variables y.\n",
    "\n",
    "```\n",
    "# load input variables from a file\n",
    "x_values = ...\n",
    "y_values = ...\n",
    "```\n",
    "\n",
    "Next, we need to design a mapping function to fit a line to the data and implement it as a Python function that takes inputs and the arguments.\n",
    "\n",
    "It may be a straight line, in which case it would look as follows:\n",
    "```\n",
    "# objective function\n",
    "def objective(x, a, b, c):\n",
    "    return a * x + b\n",
    "```\n",
    "\n",
    "We can then call the curve_fit() function to fit a straight line to the dataset using our defined function.\n",
    "\n",
    "The function curve_fit() returns the optimal values for the mapping function, e.g, the coefficient values. It also returns a covariance matrix for the estimated parameters, but we can ignore that for now.\n",
    "\n",
    "```\n",
    "# fit curve\n",
    "popt, _ = curve_fit(objective, x_values, y_values)\n",
    "```\n",
    "\n",
    "Once fit, we can use the optimal parameters and our mapping function objective() to calculate the output for any arbitrary input.\n",
    "\n",
    "This might include the output for the examples we have already collected from the domain, it might include new values that interpolate observed values, or it might include extrapolated values outside of the limits of what was observed.\n",
    "\n",
    "```\n",
    "# define new input values\n",
    "x_new = ...\n",
    "# unpack optima parameters for the objective function\n",
    "a, b, c = popt\n",
    "# use optimal parameters to calculate new values\n",
    "y_new = objective(x_new, a, b, c)\n",
    "```\n",
    "\n",
    "Now that we are familiar with using the curve fitting API, let’s look at a worked example."
   ]
  },
  {
   "cell_type": "markdown",
   "id": "fd0096aa-cbc9-4d40-a045-8dbfa601a9c4",
   "metadata": {},
   "source": [
    "# Curve Fitting Worked Example\n",
    "We will develop a curve to fit some real world observations of economic data.\n",
    "\n",
    "In this example, we will use the so-called “Longley’s Economic Regression” dataset; you can learn more about it here:\n",
    "\n",
    "* [Longley’s Economic Regression (longley.csv)](https://raw.githubusercontent.com/jbrownlee/Datasets/master/longley.csv)\n",
    "* [Longley’s Economic Regression Description (longley.names)](https://github.com/jbrownlee/Datasets/blob/master/longley.names)\n",
    "\n",
    "We will download the dataset automatically as part of the worked example.\n",
    "\n",
    "There are seven input variables and 16 rows of data, where each row defines a summary of economic details for a year between 1947 to 1962.\n",
    "\n",
    "In this example, we will explore fitting a line between population size and the number of people employed for each year.\n",
    "\n",
    "The example below loads the dataset from the URL, selects the input variable as “population,” and the output variable as “employed” and creates a scatter plot."
   ]
  },
  {
   "cell_type": "code",
   "execution_count": 1,
   "id": "8de45085-721d-4a86-a51d-651388e0e730",
   "metadata": {},
   "outputs": [
    {
     "data": {
      "image/png": "[encoded data removed]",
      "text/plain": [
       "<Figure size 640x480 with 1 Axes>"
      ]
     },
     "metadata": {},
     "output_type": "display_data"
    }
   ],
   "source": [
    "# plot \"Population\" vs \"Employed\"\n",
    "from pandas import read_csv\n",
    "from matplotlib import pyplot\n",
    "\n",
    "# load the dataset\n",
    "url = 'https://raw.githubusercontent.com/jbrownlee/Datasets/master/longley.csv'\n",
    "dataframe = read_csv(url, header=None)\n",
    "data = dataframe.values\n",
    "\n",
    "# choose the input and output variables\n",
    "x, y = data[:, 4], data[:, -1]\n",
    "\n",
    "# plot input vs output\n",
    "pyplot.scatter(x, y)\n",
    "pyplot.show()"
   ]
  },
  {
   "cell_type": "markdown",
   "id": "c6ecff20-8512-43d6-bf48-9d0daeb86906",
   "metadata": {},
   "source": [
    "Running the example loads the dataset, selects the variables, and creates a scatter plot.\n",
    "\n",
    "We can see that there is a relationship between the two variables. Specifically, that as the population increases, the total number of employees increases.\n",
    "\n",
    "It is not unreasonable to think we can fit a line to this data.\n",
    "\n",
    "First, we will try fitting a straight line to this data, as follows:"
   ]
  },
  {
   "cell_type": "code",
   "execution_count": 2,
   "id": "0fbbbc6d-6d73-4654-b9d6-3ada1def0934",
   "metadata": {},
   "outputs": [],
   "source": [
    "# define the true objective function\n",
    "def objective(x, a, b):\n",
    "    return a *x + b"
   ]
  },
  {
   "cell_type": "markdown",
   "id": "dd45ee28-cb3a-4d85-98a1-f6e415fafadf",
   "metadata": {},
   "source": [
    "We can use curve fitting to find the optimal values of “a” and “b” and summarize the values that were found:"
   ]
  },
  {
   "cell_type": "code",
   "execution_count": 3,
   "id": "cedfa7f2-b4d8-4be0-8bd3-b9cc3c4dff76",
   "metadata": {},
   "outputs": [
    {
     "name": "stdout",
     "output_type": "stream",
     "text": [
      "y = 0.48488 * x + 8.38067\n"
     ]
    }
   ],
   "source": [
    "from scipy.optimize import curve_fit\n",
    "\n",
    "# curve fit\n",
    "popt, _ = curve_fit(objective, x, y)\n",
    "# summarize the parameter values\n",
    "a, b = popt\n",
    "print('y = %.5f * x + %.5f' % (a, b))"
   ]
  },
  {
   "cell_type": "markdown",
   "id": "b1a4e577-b4b5-4bce-9ce7-6737d120322a",
   "metadata": {},
   "source": [
    "We can then create a scatter plot as before."
   ]
  },
  {
   "cell_type": "code",
   "execution_count": 4,
   "id": "db3a3fed-a2c3-44fb-882d-c3f82e48a48c",
   "metadata": {},
   "outputs": [
    {
     "data": {
      "text/plain": [
       "<matplotlib.collections.PathCollection at 0x7ffaaf1ab4f0>"
      ]
     },
     "execution_count": 4,
     "metadata": {},
     "output_type": "execute_result"
    },
    {
     "data": {
      "image/png": "[encoded data removed]",
      "text/plain": [
       "<Figure size 640x480 with 1 Axes>"
      ]
     },
     "metadata": {},
     "output_type": "display_data"
    }
   ],
   "source": [
    "# plot input vs output\n",
    "pyplot.scatter(x, y)"
   ]
  },
  {
   "cell_type": "markdown",
   "id": "cf00451e-be1a-40eb-bb55-7c7c7851d3aa",
   "metadata": {},
   "source": [
    "On top of the scatter plot, we can draw a line for the function with the optimized parameter values.\n",
    "\n",
    "This involves first defining a sequence of input values between the minimum and maximum values observed in the dataset (e.g. between about 120 and about 130)."
   ]
  },
  {
   "cell_type": "code",
   "execution_count": 5,
   "id": "9d01ab88-1b3c-46c4-8759-101dec5b61f7",
   "metadata": {},
   "outputs": [],
   "source": [
    "from numpy import arange\n",
    "\n",
    "# define a sequence of inputs between the smallest and largest known inputs\n",
    "x_line = arange(min(x), max(x), 1)"
   ]
  },
  {
   "cell_type": "markdown",
   "id": "9134d6ad-106e-420b-ba42-2b0ebcbf92ad",
   "metadata": {},
   "source": [
    "We can then calculate the output value for each input value."
   ]
  },
  {
   "cell_type": "code",
   "execution_count": 6,
   "id": "c8783016-6ab3-4fde-80f7-6d9232c0e039",
   "metadata": {},
   "outputs": [],
   "source": [
    "# calculate the output for the range\n",
    "y_line = objective(x_line, a, b)"
   ]
  },
  {
   "cell_type": "markdown",
   "id": "7e8ba0b0-2120-49d4-9436-292f1464525e",
   "metadata": {},
   "source": [
    "Then create a line plot of the inputs vs. the outputs to see a line:"
   ]
  },
  {
   "cell_type": "code",
   "execution_count": 7,
   "id": "bd423cd8-cd21-494d-b9e3-165a38db19a3",
   "metadata": {},
   "outputs": [
    {
     "data": {
      "text/plain": [
       "[<matplotlib.lines.Line2D at 0x7ffaaee7ece0>]"
      ]
     },
     "execution_count": 7,
     "metadata": {},
     "output_type": "execute_result"
    },
    {
     "data": {
      "image/png": "[encoded data removed]",
      "text/plain": [
       "<Figure size 640x480 with 1 Axes>"
      ]
     },
     "metadata": {},
     "output_type": "display_data"
    }
   ],
   "source": [
    "# create a line plot for the mapping function\n",
    "pyplot.plot(x_line, y_line, '--', color='red')"
   ]
  },
  {
   "cell_type": "markdown",
   "id": "1fc71d48-c6e9-425a-841b-41a06a24c58f",
   "metadata": {},
   "source": [
    "Tying this together, the example below uses curve fitting to find the parameters of a straight line for our economic data."
   ]
  },
  {
   "cell_type": "code",
   "execution_count": 8,
   "id": "67e5900e-b042-4bc2-95af-4272bb7da068",
   "metadata": {},
   "outputs": [
    {
     "name": "stdout",
     "output_type": "stream",
     "text": [
      "y = 0.48488 * x + 8.38067\n"
     ]
    },
    {
     "data": {
      "image/png": "[encoded data removed]",
      "text/plain": [
       "<Figure size 640x480 with 1 Axes>"
      ]
     },
     "metadata": {},
     "output_type": "display_data"
    }
   ],
   "source": [
    "# fit a straight line to the economic data\n",
    "from numpy import arange\n",
    "from pandas import read_csv\n",
    "from matplotlib import pyplot\n",
    "from pandas import read_csv\n",
    "from scipy.optimize import curve_fit \n",
    " \n",
    "# define the true objective function\n",
    "def objective(x, a, b):\n",
    "    return a * x + b\n",
    " \n",
    "# load the dataset\n",
    "url = 'https://raw.githubusercontent.com/jbrownlee/Datasets/master/longley.csv'\n",
    "dataframe = read_csv(url, header=None)\n",
    "data = dataframe.values\n",
    "\n",
    "# choose the input and output variables\n",
    "x, y = data[:, 4], data[:, -1]\n",
    "\n",
    "# curve fit\n",
    "popt, _ = curve_fit(objective, x, y)\n",
    "\n",
    "# summarize the parameter values\n",
    "a, b = popt\n",
    "print('y = %.5f * x + %.5f' % (a, b))\n",
    "\n",
    "# plot input vs output\n",
    "pyplot.scatter(x, y)\n",
    "\n",
    "# define a sequence of inputs between the smallest and largest known inputs\n",
    "x_line = arange(min(x), max(x), 1)\n",
    "\n",
    "# calculate the output for the range\n",
    "y_line = objective(x_line, a, b)\n",
    "\n",
    "# create a line plot for the mapping function\n",
    "pyplot.plot(x_line, y_line, '--', color='red')\n",
    "pyplot.show()"
   ]
  },
  {
   "cell_type": "markdown",
   "id": "77c59b09-eb45-4f9b-adf4-e694c7e34e8e",
   "metadata": {},
   "source": [
    "Running the example performs curve fitting and finds the optimal parameters to our objective function.\n",
    "\n",
    "First, the values of the parameters are reported.\n",
    "\n",
    "`y = 0.48488 * x + 8.38067`\n",
    "\n",
    "Next, a plot is created showing the original data and the line that was fit to the data.\n",
    "\n",
    "We can see that it is a reasonably good fit."
   ]
  },
  {
   "cell_type": "markdown",
   "id": "2beaee42-4c42-46e3-99c2-9cd6d665e264",
   "metadata": {},
   "source": [
    "# Plot of Straight Line Fit to Economic Dataset\n",
    "\n",
    "So far, this is not very exciting as we could achieve the same effect by fitting a linear regression model on the dataset.\n",
    "\n",
    "Let’s try a polynomial regression model by adding squared terms to the objective function."
   ]
  },
  {
   "cell_type": "code",
   "execution_count": 9,
   "id": "0ea101b7-069f-4ca2-8421-84fe9a90d827",
   "metadata": {},
   "outputs": [],
   "source": [
    "# define the true objective function\n",
    "def objective(x, a, b, c):\n",
    "\treturn a * x + b * x**2 + c"
   ]
  },
  {
   "cell_type": "markdown",
   "id": "1fd322fc-8bb6-48cd-aadc-aa6e32e5b270",
   "metadata": {},
   "source": [
    "Tying this together, the complete example is listed below."
   ]
  },
  {
   "cell_type": "code",
   "execution_count": 10,
   "id": "74233daa-c1a7-44e1-9702-5e877056f484",
   "metadata": {},
   "outputs": [],
   "source": [
    "# fit a second degree polynomial to the economic data\n",
    "from numpy import arange\n",
    "from pandas import read_csv\n",
    "from scipy.optimize import curve_fit\n",
    "from matplotlib import pyplot"
   ]
  },
  {
   "cell_type": "code",
   "execution_count": 11,
   "id": "b5f72c15-2ec1-4c55-9d07-03bf90213303",
   "metadata": {},
   "outputs": [],
   "source": [
    " # load the dataset\n",
    "url = 'https://raw.githubusercontent.com/jbrownlee/Datasets/master/longley.csv'\n",
    "dataframe = read_csv(url, header=None)\n",
    "data = dataframe.values\n",
    "\n",
    "# choose the input and output variables\n",
    "x, y = data[:, 4], data[:, -1]"
   ]
  },
  {
   "cell_type": "code",
   "execution_count": 12,
   "id": "a33560f4-08f3-4a14-bf5b-0d563b4e2015",
   "metadata": {},
   "outputs": [
    {
     "data": {
      "text/plain": [
       "<matplotlib.collections.PathCollection at 0x7ffaaeee6110>"
      ]
     },
     "execution_count": 12,
     "metadata": {},
     "output_type": "execute_result"
    },
    {
     "data": {
      "image/png": "[encoded data removed]",
      "text/plain": [
       "<Figure size 640x480 with 1 Axes>"
      ]
     },
     "metadata": {},
     "output_type": "display_data"
    }
   ],
   "source": [
    "# plot input vs output\n",
    "pyplot.scatter(x, y)"
   ]
  },
  {
   "cell_type": "code",
   "execution_count": 13,
   "id": "5f6a3570-ad91-4f8c-be37-c0171b0850c7",
   "metadata": {},
   "outputs": [],
   "source": [
    "# define the true objective function\n",
    "def objective(x, a, b, c):\n",
    "    return a * x + b * x**2 + c"
   ]
  },
  {
   "cell_type": "code",
   "execution_count": 14,
   "id": "2d08f0b6-90af-439a-9130-6869550a2d80",
   "metadata": {},
   "outputs": [
    {
     "name": "stdout",
     "output_type": "stream",
     "text": [
      "y = 3.25444 * x + -0.01170 * x^2 + -155.02799\n"
     ]
    }
   ],
   "source": [
    "# curve fit\n",
    "popt, pcov = curve_fit(objective, x, y)\n",
    "\n",
    "# summarize the parameter values\n",
    "a, b, c = popt\n",
    "print('y = %.5f * x + %.5f * x^2 + %.5f' % (a, b, c))"
   ]
  },
  {
   "cell_type": "code",
   "execution_count": 15,
   "id": "4a3e8f66-a6ef-4062-b635-35123fb9fb6a",
   "metadata": {},
   "outputs": [],
   "source": [
    "import numpy\n",
    "def calc_r_squared(xdata,ydata,popt, f):\n",
    "    # https://stackoverflow.com/a/37899817\n",
    "    # You can get the residual sum of squares (ss_tot) with\n",
    "    residuals = ydata - f(xdata, *popt)\n",
    "    ss_res = numpy.sum(residuals**2)\n",
    "\n",
    "    #You can get the total sum of squares (ss_tot) with\n",
    "    ss_tot = numpy.sum((ydata-numpy.mean(ydata))**2)\n",
    "\n",
    "    #And finally, the r_squared-value with,\n",
    "    r_squared = 1 - (ss_res / ss_tot)\n",
    "    return r_squared\n"
   ]
  },
  {
   "cell_type": "code",
   "execution_count": 16,
   "id": "8de6228d-555f-44e8-900c-aa7cf13dc24d",
   "metadata": {},
   "outputs": [
    {
     "data": {
      "text/plain": [
       "0.9439253893617803"
      ]
     },
     "execution_count": 16,
     "metadata": {},
     "output_type": "execute_result"
    }
   ],
   "source": [
    "calc_r_squared(x,y,popt,objective)"
   ]
  },
  {
   "cell_type": "code",
   "execution_count": 17,
   "id": "8de3ce92-5b75-48f9-b838-02cb1f44fb43",
   "metadata": {},
   "outputs": [
    {
     "data": {
      "image/png": "[encoded data removed]",
      "text/plain": [
       "<Figure size 640x480 with 1 Axes>"
      ]
     },
     "metadata": {},
     "output_type": "display_data"
    }
   ],
   "source": [
    "# plot input vs output\n",
    "pyplot.scatter(x, y)\n",
    "\n",
    "# define a sequence of inputs between the smallest and largest known inputs\n",
    "x_line = arange(min(x), max(x), 1)\n",
    "\n",
    "# calculate the output for the range\n",
    "y_line = objective(x_line, a, b, c)\n",
    "\n",
    "# create a line plot for the mapping function\n",
    "pyplot.plot(x_line, y_line, '--', color='red')\n",
    "pyplot.show()"
   ]
  },
  {
   "cell_type": "markdown",
   "id": "f9270fc1-9ba4-4b74-8f43-050d26b09e73",
   "metadata": {},
   "source": [
    "First the optimal parameters are reported.\n",
    "\n",
    "`y = 3.25443 * x + -0.01170 * x^2 + -155.02783`\n",
    "\n",
    "Next, a plot is created showing the line in the context of the observed values from the domain.\n",
    "\n",
    "We can see that the second-degree polynomial equation that we defined is visually a better fit for the data than the straight line that we tested first."
   ]
  },
  {
   "cell_type": "markdown",
   "id": "eb942df1-e3dd-4b71-bff9-9ae02c9eac65",
   "metadata": {},
   "source": [
    "# Plot of Second Degree Polynomial Fit to Economic Dataset\n",
    "\n",
    "We could keep going and add more polynomial terms to the equation to better fit the curve.\n",
    "\n",
    "For example, below is an example of a fifth-degree polynomial fit to the data."
   ]
  },
  {
   "cell_type": "code",
   "execution_count": 18,
   "id": "28a4dc37-faf8-4a53-8114-b10a30b1407a",
   "metadata": {},
   "outputs": [
    {
     "data": {
      "image/png": "[encoded data removed]",
      "text/plain": [
       "<Figure size 640x480 with 1 Axes>"
      ]
     },
     "metadata": {},
     "output_type": "display_data"
    }
   ],
   "source": [
    "# fit a fifth degree polynomial to the economic data\n",
    "from numpy import arange\n",
    "from pandas import read_csv\n",
    "from scipy.optimize import curve_fit\n",
    "from matplotlib import pyplot\n",
    " \n",
    "# define the true objective function\n",
    "def objective(x, a, b, c, d, e, f):\n",
    "    return (a * x) + (b * x**2) + (c * x**3) + (d * x**4) + (e * x**5) + f\n",
    " \n",
    "# load the dataset\n",
    "url = 'https://raw.githubusercontent.com/jbrownlee/Datasets/master/longley.csv'\n",
    "dataframe = read_csv(url, header=None)\n",
    "data = dataframe.values\n",
    "\n",
    "# choose the input and output variables\n",
    "x, y = data[:, 4], data[:, -1]\n",
    "\n",
    "# curve fit\n",
    "popt, _ = curve_fit(objective, x, y)\n",
    "\n",
    "# summarize the parameter values\n",
    "a, b, c, d, e, f = popt\n",
    "\n",
    "# plot input vs output\n",
    "pyplot.scatter(x, y)\n",
    "\n",
    "# define a sequence of inputs between the smallest and largest known inputs\n",
    "x_line = arange(min(x), max(x), 1)\n",
    "\n",
    "# calculate the output for the range\n",
    "y_line = objective(x_line, a, b, c, d, e, f)\n",
    "\n",
    "# create a line plot for the mapping function\n",
    "pyplot.plot(x_line, y_line, '--', color='red')\n",
    "pyplot.show()"
   ]
  },
  {
   "cell_type": "code",
   "execution_count": 19,
   "id": "99118de3-79d6-4aea-b3ec-f300426cae86",
   "metadata": {},
   "outputs": [
    {
     "data": {
      "text/plain": [
       "0.9505810350173182"
      ]
     },
     "execution_count": 19,
     "metadata": {},
     "output_type": "execute_result"
    }
   ],
   "source": [
    "calc_r_squared(x,y,popt,objective)"
   ]
  },
  {
   "cell_type": "markdown",
   "id": "72889242-b00a-42e1-9ace-ef5f1c8fc0f1",
   "metadata": {},
   "source": [
    "Running the example fits the curve and plots the result, again capturing slightly more nuance in how the relationship in the data changes over time."
   ]
  },
  {
   "cell_type": "markdown",
   "id": "ea82555d-9365-4ee9-9db3-01f98b8a3446",
   "metadata": {},
   "source": [
    "# Plot of Fifth Degree Polynomial Fit to Economic Dataset\n",
    "\n",
    "Importantly, we are not limited to linear regression or polynomial regression. We can use any arbitrary basis function.\n",
    "\n",
    "For example, perhaps we want a line that has wiggles to capture the short-term movement in observation. We could add a sine curve to the equation and find the parameters that best integrate this element in the equation.\n",
    "\n",
    "For example, an arbitrary function that uses a sine wave and a second degree polynomial is listed below:"
   ]
  },
  {
   "cell_type": "code",
   "execution_count": 20,
   "id": "718068a5-d3c5-4206-9785-aeab0b99a180",
   "metadata": {},
   "outputs": [],
   "source": [
    "# define the true objective function\n",
    "def objective(x, a, b, c, d):\n",
    "\treturn a * sin(b - x) + c * x**2 + d"
   ]
  },
  {
   "cell_type": "markdown",
   "id": "678195a2-6099-40de-a174-fc0cb52f412e",
   "metadata": {},
   "source": [
    "The complete example of fitting a curve using this basis function is listed below."
   ]
  },
  {
   "cell_type": "code",
   "execution_count": 21,
   "id": "c72e058b-86b4-479b-91f1-22173edd1fab",
   "metadata": {},
   "outputs": [
    {
     "name": "stdout",
     "output_type": "stream",
     "text": [
      "[8.83095297e-01 1.48622917e+00 2.05997114e-03 3.69046170e+01]\n"
     ]
    },
    {
     "data": {
      "image/png": "[encoded data removed]",
      "text/plain": [
       "<Figure size 640x480 with 1 Axes>"
      ]
     },
     "metadata": {},
     "output_type": "display_data"
    }
   ],
   "source": [
    "# fit a line to the economic data\n",
    "from numpy import sin\n",
    "from numpy import sqrt\n",
    "from numpy import arange\n",
    "from pandas import read_csv\n",
    "from scipy.optimize import curve_fit\n",
    "from matplotlib import pyplot\n",
    " \n",
    "# define the true objective function\n",
    "def objective(x, a, b, c, d):\n",
    "    return a * sin(b - x) + c * x**2 + d\n",
    " \n",
    "# load the dataset\n",
    "url = 'https://raw.githubusercontent.com/jbrownlee/Datasets/master/longley.csv'\n",
    "dataframe = read_csv(url, header=None)\n",
    "data = dataframe.values\n",
    "\n",
    "# choose the input and output variables\n",
    "x, y = data[:, 4], data[:, -1]\n",
    "\n",
    "# curve fit\n",
    "popt, _ = curve_fit(objective, x, y)\n",
    "\n",
    "# summarize the parameter values\n",
    "a, b, c, d = popt\n",
    "print(popt)\n",
    "\n",
    "# plot input vs output\n",
    "pyplot.scatter(x, y)\n",
    "\n",
    "# define a sequence of inputs between the smallest and largest known inputs\n",
    "x_line = arange(min(x), max(x), 1)\n",
    "\n",
    "# calculate the output for the range\n",
    "y_line = objective(x_line, a, b, c, d)\n",
    "\n",
    "# create a line plot for the mapping function\n",
    "pyplot.plot(x_line, y_line, '--', color='red')\n",
    "pyplot.show()"
   ]
  },
  {
   "cell_type": "code",
   "execution_count": 22,
   "id": "7398ea2e-fe42-4eff-92fb-34782644ebe6",
   "metadata": {},
   "outputs": [
    {
     "data": {
      "text/plain": [
       "0.9463640408085512"
      ]
     },
     "execution_count": 22,
     "metadata": {},
     "output_type": "execute_result"
    }
   ],
   "source": [
    "calc_r_squared(x,y,popt,objective)"
   ]
  },
  {
   "cell_type": "markdown",
   "id": "14c33579-e19e-4f17-a0fa-4832a62c36f2",
   "metadata": {},
   "source": [
    "Running the example fits a curve and plots the result.\n",
    "\n",
    "We can see that adding a sine wave has the desired effect showing a periodic wiggle with an upward trend that provides another way of capturing the relationships in the data."
   ]
  },
  {
   "cell_type": "markdown",
   "id": "802ae9cf-4506-43d0-afcf-bc96cb4bee84",
   "metadata": {},
   "source": [
    "# How do you choose the best fit?\n",
    "\n",
    "If you want the best fit, you would model the problem as a regression supervised learning problem and test a suite of algorithms in order to discover which is best at minimizing the error.\n",
    "\n",
    "In this case, curve fitting is appropriate when you want to define the function explicitly, then discover the parameters of your function that best fit a line to the data."
   ]
  }
 ],
 "metadata": {
  "kernelspec": {
   "display_name": "Python 3 (ipykernel)",
   "language": "python",
   "name": "python3"
  },
  "language_info": {
   "codemirror_mode": {
    "name": "ipython",
    "version": 3
   },
   "file_extension": ".py",
   "mimetype": "text/x-python",
   "name": "python",
   "nbconvert_exporter": "python",
   "pygments_lexer": "ipython3",
   "version": "3.10.6"
  }
 },
 "nbformat": 4,
 "nbformat_minor": 5
}
